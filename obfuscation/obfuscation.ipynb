{
 "cells": [
  {
   "cell_type": "code",
   "execution_count": 3,
   "id": "f990f88f-7906-4709-89e8-3a7a0872dd51",
   "metadata": {},
   "outputs": [],
   "source": [
    "import numpy as np\n",
    "import cv2\n",
    "from simple_lama_inpainting import SimpleLama\n",
    "from PIL import Image"
   ]
  },
  {
   "cell_type": "code",
   "execution_count": 4,
   "id": "ba25ace0-c560-4049-83f4-ac479f50fcf4",
   "metadata": {},
   "outputs": [],
   "source": [
    "simple_lama = SimpleLama()\n",
    "\n",
    "img_path = \"obfusc_example.jpg\"\n",
    "\n",
    "image = Image.open(img_path)\n",
    "height, width, _ = np.array(image).shape\n",
    "\n",
    "# Load the text file containing contour coordinates\n",
    "# Load the text file containing contour coordinates\n",
    "def load_contours(txt_file_path):\n",
    "    contours = []\n",
    "    with open(txt_file_path, 'r') as file:\n",
    "        for line in file:\n",
    "            # Assuming each line contains the coordinates of one object\n",
    "            points = []\n",
    "            coords = line.strip().split()[1:]\n",
    "            for i in range(0, len(coords), 2):\n",
    "                x = float(coords[i]) * width  # Scale x coordinate\n",
    "                y = float(coords[i+1]) * height # Scale y coordinate\n",
    "                points.append([int(x), int(y)])\n",
    "            contours.append(np.array(points, np.int32))\n",
    "    return contours\n",
    "\n",
    "# Specify the text file path\n",
    "txt_file_path = './obfusc_example.txt'\n",
    "contours = load_contours(txt_file_path)\n",
    "\n",
    "# Create an empty mask\n",
    "mask = np.zeros((height, width), dtype=np.uint8)\n",
    "\n",
    "# Fill the mask with the contour areas\n",
    "for contour in contours:\n",
    "    cv2.fillPoly(mask, [contour], 255)  # Fill the polygon with white (255)\n",
    "\n",
    "# Save or display the inpainted image\n",
    "result = simple_lama(image, mask)\n",
    "result.save(\"inpainted.png\")"
   ]
  },
  {
   "cell_type": "code",
   "execution_count": 12,
   "id": "ff5f0648-f9cb-4ff8-a2b9-3c6bcdce0901",
   "metadata": {},
   "outputs": [],
   "source": []
  },
  {
   "cell_type": "code",
   "execution_count": null,
   "id": "567c8836-d9d7-468a-bce1-45a2c15c6101",
   "metadata": {},
   "outputs": [],
   "source": []
  }
 ],
 "metadata": {
  "kernelspec": {
   "display_name": "Python 3 (ipykernel)",
   "language": "python",
   "name": "python3"
  },
  "language_info": {
   "codemirror_mode": {
    "name": "ipython",
    "version": 3
   },
   "file_extension": ".py",
   "mimetype": "text/x-python",
   "name": "python",
   "nbconvert_exporter": "python",
   "pygments_lexer": "ipython3",
   "version": "3.12.4"
  }
 },
 "nbformat": 4,
 "nbformat_minor": 5
}
